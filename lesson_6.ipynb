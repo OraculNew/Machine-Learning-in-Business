{
  "nbformat": 4,
  "nbformat_minor": 0,
  "metadata": {
    "kernelspec": {
      "display_name": "Python 3",
      "language": "python",
      "name": "python3"
    },
    "language_info": {
      "codemirror_mode": {
        "name": "ipython",
        "version": 3
      },
      "file_extension": ".py",
      "mimetype": "text/x-python",
      "name": "python",
      "nbconvert_exporter": "python",
      "pygments_lexer": "ipython3",
      "version": "3.8.5"
    },
    "colab": {
      "name": "lesson_6.ipynb",
      "provenance": []
    }
  },
  "cells": [
    {
      "cell_type": "markdown",
      "metadata": {
        "id": "kJi1sk7AfUZG"
      },
      "source": [
        "# Домашняя работа к уроку 6. Задача look-alike"
      ]
    },
    {
      "cell_type": "markdown",
      "metadata": {
        "id": "kWYN3Mm0fUZI"
      },
      "source": [
        "#### Домашнее задание\n",
        "\n",
        "1. взять любой набор данных для бинарной классификации (можно скачать один из модельных с https://archive.ics.uci.edu/ml/datasets.php)\n",
        "\n",
        "2. сделать feature engineering\n",
        "\n",
        "3. обучить любой классификатор (какой вам нравится)\n",
        "\n",
        "4. далее разделить ваш набор данных на два множества: P (positives) и U (unlabeled). Причем брать нужно не все положительные (класс 1) примеры, а только лишь часть\n",
        "\n",
        "5. применить random negative sampling для построения классификатора в новых условиях\n",
        "\n",
        "6. сравнить качество с решением из пункта 4 (построить отчет - таблицу метрик)\n",
        "\n",
        "7. поэкспериментировать с долей P на шаге 5 (как будет меняться качество модели при уменьшении/увеличении размера P)\n",
        "\n",
        "**Бонусный вопрос:**\n",
        "Как вы думаете, какой из методов на практике является более предпочтительным: random negative sampling или 2-step approach?"
      ]
    },
    {
      "cell_type": "markdown",
      "metadata": {
        "id": "HLR5wtQmfUZJ"
      },
      "source": [
        "Набор данных для бинарной классификации - банкрот или нет компания\n",
        "\n",
        "Описание данных - https://archive.ics.uci.edu/ml/datasets/Qualitative_Bankruptcy#\n",
        "\n",
        "Attribute Information: (P=Positive,A-Average,N-negative,B-Bankruptcy,NB-Non-Bankruptcy)\n",
        "\n",
        "- Industrial Risk: {P,A,N}\n",
        "- Management Risk: {P,A,N}\n",
        "- Financial Flexibility: {P,A,N}\n",
        "- Credibility: {P,A,N}\n",
        "- Competitiveness: {P,A,N}\n",
        "- Operating Risk: {P,A,N}\n",
        "- Class: {B,NB}"
      ]
    },
    {
      "cell_type": "code",
      "metadata": {
        "colab": {
          "base_uri": "https://localhost:8080/"
        },
        "id": "IlPd5xIjfeJL",
        "outputId": "418131b0-2090-418f-b6c9-a7ab1dd3bf6b"
      },
      "source": [
        "from google.colab import drive\n",
        "drive.mount('/content/drive')"
      ],
      "execution_count": 13,
      "outputs": [
        {
          "output_type": "stream",
          "name": "stdout",
          "text": [
            "Drive already mounted at /content/drive; to attempt to forcibly remount, call drive.mount(\"/content/drive\", force_remount=True).\n"
          ]
        }
      ]
    },
    {
      "cell_type": "code",
      "metadata": {
        "colab": {
          "base_uri": "https://localhost:8080/",
          "height": 142
        },
        "id": "iLeyji2IfUZK",
        "outputId": "e5ba22b8-65e9-4738-d47e-12fecc8dc7e4"
      },
      "source": [
        "import pandas as pd\n",
        "import numpy as np\n",
        "data = pd.read_csv(\"/content/drive/MyDrive/Qualitative_Bankruptcy.data.txt\", header=None)\n",
        "data.columns=['Industrial Risk', 'Management Risk', 'Financial Flexibility', \n",
        "              'Credibility','Competitiveness', 'Operating Risk','Class']\n",
        "data.head(3)"
      ],
      "execution_count": 14,
      "outputs": [
        {
          "output_type": "execute_result",
          "data": {
            "text/html": [
              "<div>\n",
              "<style scoped>\n",
              "    .dataframe tbody tr th:only-of-type {\n",
              "        vertical-align: middle;\n",
              "    }\n",
              "\n",
              "    .dataframe tbody tr th {\n",
              "        vertical-align: top;\n",
              "    }\n",
              "\n",
              "    .dataframe thead th {\n",
              "        text-align: right;\n",
              "    }\n",
              "</style>\n",
              "<table border=\"1\" class=\"dataframe\">\n",
              "  <thead>\n",
              "    <tr style=\"text-align: right;\">\n",
              "      <th></th>\n",
              "      <th>Industrial Risk</th>\n",
              "      <th>Management Risk</th>\n",
              "      <th>Financial Flexibility</th>\n",
              "      <th>Credibility</th>\n",
              "      <th>Competitiveness</th>\n",
              "      <th>Operating Risk</th>\n",
              "      <th>Class</th>\n",
              "    </tr>\n",
              "  </thead>\n",
              "  <tbody>\n",
              "    <tr>\n",
              "      <th>0</th>\n",
              "      <td>P</td>\n",
              "      <td>P</td>\n",
              "      <td>A</td>\n",
              "      <td>A</td>\n",
              "      <td>A</td>\n",
              "      <td>P</td>\n",
              "      <td>NB</td>\n",
              "    </tr>\n",
              "    <tr>\n",
              "      <th>1</th>\n",
              "      <td>N</td>\n",
              "      <td>N</td>\n",
              "      <td>A</td>\n",
              "      <td>A</td>\n",
              "      <td>A</td>\n",
              "      <td>N</td>\n",
              "      <td>NB</td>\n",
              "    </tr>\n",
              "    <tr>\n",
              "      <th>2</th>\n",
              "      <td>A</td>\n",
              "      <td>A</td>\n",
              "      <td>A</td>\n",
              "      <td>A</td>\n",
              "      <td>A</td>\n",
              "      <td>A</td>\n",
              "      <td>NB</td>\n",
              "    </tr>\n",
              "  </tbody>\n",
              "</table>\n",
              "</div>"
            ],
            "text/plain": [
              "  Industrial Risk Management Risk  ... Operating Risk Class\n",
              "0               P               P  ...              P    NB\n",
              "1               N               N  ...              N    NB\n",
              "2               A               A  ...              A    NB\n",
              "\n",
              "[3 rows x 7 columns]"
            ]
          },
          "metadata": {},
          "execution_count": 14
        }
      ]
    },
    {
      "cell_type": "markdown",
      "metadata": {
        "id": "kxmVRxtrfUZL"
      },
      "source": [
        "Имеется 6 признаков и 1 целевая переменная - нужно определить является ли компания банкротом"
      ]
    },
    {
      "cell_type": "code",
      "metadata": {
        "colab": {
          "base_uri": "https://localhost:8080/"
        },
        "id": "d83cyqzifUZL",
        "outputId": "852f9fbd-d67f-4d57-ee82-183abff577b0"
      },
      "source": [
        "print(data.shape)"
      ],
      "execution_count": 15,
      "outputs": [
        {
          "output_type": "stream",
          "name": "stdout",
          "text": [
            "(250, 7)\n"
          ]
        }
      ]
    },
    {
      "cell_type": "markdown",
      "metadata": {
        "id": "B7b6rwtffUZM"
      },
      "source": [
        "#### Сдедать feature engineering"
      ]
    },
    {
      "cell_type": "code",
      "metadata": {
        "colab": {
          "base_uri": "https://localhost:8080/",
          "height": 142
        },
        "id": "JefnrxX4fUZM",
        "outputId": "5a0f8bc2-4dd8-4d10-8c13-e60145dac22b"
      },
      "source": [
        "#P=Positive,A-Average,N-negative\n",
        "mapping = {'P': 1,'A': 0,'N': -1,'B': -1,'NB': 1}\n",
        "\n",
        "df=pd.DataFrame()\n",
        "\n",
        "#  = data.applymap(mapping)\n",
        "for column in data.columns:\n",
        "    df[column]=data[column].map(mapping)\n",
        "    \n",
        "# суммарный риск и 2 сумма (Credibility + Competitiveness)\n",
        "df['F1'] = (df['Industrial Risk']+df['Management Risk']+df['Operating Risk'])\n",
        "df['F2'] = (df['Credibility']+df['Competitiveness'])\n",
        "\n",
        "# целевой столбец последний\n",
        "cols = list(df.columns)\n",
        "a, b = cols.index('Class'), cols.index('F2')\n",
        "cols[b], cols[a] = cols[a], cols[b]\n",
        "df = df[cols]\n",
        "\n",
        "df.head(3)"
      ],
      "execution_count": 16,
      "outputs": [
        {
          "output_type": "execute_result",
          "data": {
            "text/html": [
              "<div>\n",
              "<style scoped>\n",
              "    .dataframe tbody tr th:only-of-type {\n",
              "        vertical-align: middle;\n",
              "    }\n",
              "\n",
              "    .dataframe tbody tr th {\n",
              "        vertical-align: top;\n",
              "    }\n",
              "\n",
              "    .dataframe thead th {\n",
              "        text-align: right;\n",
              "    }\n",
              "</style>\n",
              "<table border=\"1\" class=\"dataframe\">\n",
              "  <thead>\n",
              "    <tr style=\"text-align: right;\">\n",
              "      <th></th>\n",
              "      <th>Industrial Risk</th>\n",
              "      <th>Management Risk</th>\n",
              "      <th>Financial Flexibility</th>\n",
              "      <th>Credibility</th>\n",
              "      <th>Competitiveness</th>\n",
              "      <th>Operating Risk</th>\n",
              "      <th>F2</th>\n",
              "      <th>F1</th>\n",
              "      <th>Class</th>\n",
              "    </tr>\n",
              "  </thead>\n",
              "  <tbody>\n",
              "    <tr>\n",
              "      <th>0</th>\n",
              "      <td>1</td>\n",
              "      <td>1</td>\n",
              "      <td>0</td>\n",
              "      <td>0</td>\n",
              "      <td>0</td>\n",
              "      <td>1</td>\n",
              "      <td>0</td>\n",
              "      <td>3</td>\n",
              "      <td>1</td>\n",
              "    </tr>\n",
              "    <tr>\n",
              "      <th>1</th>\n",
              "      <td>-1</td>\n",
              "      <td>-1</td>\n",
              "      <td>0</td>\n",
              "      <td>0</td>\n",
              "      <td>0</td>\n",
              "      <td>-1</td>\n",
              "      <td>0</td>\n",
              "      <td>-3</td>\n",
              "      <td>1</td>\n",
              "    </tr>\n",
              "    <tr>\n",
              "      <th>2</th>\n",
              "      <td>0</td>\n",
              "      <td>0</td>\n",
              "      <td>0</td>\n",
              "      <td>0</td>\n",
              "      <td>0</td>\n",
              "      <td>0</td>\n",
              "      <td>0</td>\n",
              "      <td>0</td>\n",
              "      <td>1</td>\n",
              "    </tr>\n",
              "  </tbody>\n",
              "</table>\n",
              "</div>"
            ],
            "text/plain": [
              "   Industrial Risk  Management Risk  Financial Flexibility  ...  F2  F1  Class\n",
              "0                1                1                      0  ...   0   3      1\n",
              "1               -1               -1                      0  ...   0  -3      1\n",
              "2                0                0                      0  ...   0   0      1\n",
              "\n",
              "[3 rows x 9 columns]"
            ]
          },
          "metadata": {},
          "execution_count": 16
        }
      ]
    },
    {
      "cell_type": "code",
      "metadata": {
        "colab": {
          "base_uri": "https://localhost:8080/"
        },
        "id": "lKAjr1MofUZN",
        "outputId": "a244ae53-14f8-4fb2-84e1-07c653086291"
      },
      "source": [
        "df['Class'].value_counts()\n",
        "# 1 = Не банкрот\n",
        "# -1 = банкрот"
      ],
      "execution_count": 17,
      "outputs": [
        {
          "output_type": "execute_result",
          "data": {
            "text/plain": [
              " 1    143\n",
              "-1    107\n",
              "Name: Class, dtype: int64"
            ]
          },
          "metadata": {},
          "execution_count": 17
        }
      ]
    },
    {
      "cell_type": "markdown",
      "metadata": {
        "id": "EfdJp8bbfUZN"
      },
      "source": [
        "#### Обучить любой классификатор - KNeighborsClassifier"
      ]
    },
    {
      "cell_type": "code",
      "metadata": {
        "id": "hpJ3GyHufUZO"
      },
      "source": [
        "from sklearn.model_selection import train_test_split\n",
        "\n",
        "y_data = df['Class']\n",
        "x_data = df.drop(columns='Class')\n",
        "\n",
        "\n",
        "x_train, x_test, y_train, y_test = train_test_split(x_data, y_data, test_size=0.2, random_state=7)"
      ],
      "execution_count": 18,
      "outputs": []
    },
    {
      "cell_type": "code",
      "metadata": {
        "id": "2TEW5PqyfUZO"
      },
      "source": [
        "from sklearn.neighbors import KNeighborsClassifier\n",
        "model = KNeighborsClassifier(n_neighbors=2)\n",
        "\n",
        "model.fit(x_train, y_train)\n",
        "y_predict = model.predict(x_test)"
      ],
      "execution_count": 19,
      "outputs": []
    },
    {
      "cell_type": "markdown",
      "metadata": {
        "id": "Gup2SNShfUZO"
      },
      "source": [
        "Проверка качества"
      ]
    },
    {
      "cell_type": "code",
      "metadata": {
        "colab": {
          "base_uri": "https://localhost:8080/"
        },
        "id": "2QDN1L7IfUZP",
        "outputId": "8b4f6aae-a645-401d-9dde-8a57e01233df"
      },
      "source": [
        "from sklearn.metrics import recall_score, precision_score, roc_auc_score, accuracy_score, f1_score\n",
        "\n",
        "def evaluate_results(y_test, y_predict):\n",
        "    print('Classification results:')\n",
        "    f1 = f1_score(y_test, y_predict)\n",
        "    print(\"f1: %.2f%%\" % (f1 * 100.0)) \n",
        "    roc = roc_auc_score(y_test, y_predict)\n",
        "    print(\"roc: %.2f%%\" % (roc * 100.0)) \n",
        "    rec = recall_score(y_test, y_predict, average='binary')\n",
        "    print(\"recall: %.2f%%\" % (rec * 100.0)) \n",
        "    prc = precision_score(y_test, y_predict, average='binary')\n",
        "    print(\"precision: %.2f%%\" % (prc * 100.0)) \n",
        "    return [f1,roc,rec,prc]\n",
        "\n",
        "result= evaluate_results(y_test, y_predict)\n",
        "result.append('step4')\n",
        "A = pd.DataFrame([result],columns=['f1', 'roc', 'recall', 'precision','Model'])"
      ],
      "execution_count": 20,
      "outputs": [
        {
          "output_type": "stream",
          "name": "stdout",
          "text": [
            "Classification results:\n",
            "f1: 100.00%\n",
            "roc: 100.00%\n",
            "recall: 100.00%\n",
            "precision: 100.00%\n"
          ]
        }
      ]
    },
    {
      "cell_type": "markdown",
      "metadata": {
        "id": "iQd8_xxcfUZP"
      },
      "source": [
        "#### Разделить ваш набор данных на два множества: P (positives) и U (unlabeled). Причем брать нужно не все положительные (класс 1) примеры, а только лишь часть"
      ]
    },
    {
      "cell_type": "code",
      "metadata": {
        "colab": {
          "base_uri": "https://localhost:8080/"
        },
        "id": "yHEAizl7fUZP",
        "outputId": "47f1912d-c752-482e-955b-ecfed282246b"
      },
      "source": [
        "share = .05\n",
        "\n",
        "mod_data = df.copy()\n",
        "#get the indices of the positives samples\n",
        "P = np.where(mod_data['Class'].values == 1)[0]\n",
        "#shuffle them\n",
        "np.random.shuffle(P)\n",
        "# leave just share% of the positives marked\n",
        "P_len = int(np.ceil(share * len(P)))\n",
        "print(f'Using {P_len}/{len(P)} as positives and unlabeling the rest')\n",
        "P_sample = P[:P_len]"
      ],
      "execution_count": 21,
      "outputs": [
        {
          "output_type": "stream",
          "name": "stdout",
          "text": [
            "Using 8/143 as positives and unlabeling the rest\n"
          ]
        }
      ]
    },
    {
      "cell_type": "code",
      "metadata": {
        "colab": {
          "base_uri": "https://localhost:8080/"
        },
        "id": "ApGZNzU7fUZQ",
        "outputId": "296b71eb-2af9-4084-f841-cfd67408152d"
      },
      "source": [
        "# столбец для новой целевой переменной, где у нас два класса - P (1) и U (-1)\n",
        "mod_data['class_test'] = -1\n",
        "mod_data.loc[P_sample,'class_test'] = 1\n",
        "print('target variable:\\n', mod_data['class_test'].value_counts())"
      ],
      "execution_count": 22,
      "outputs": [
        {
          "output_type": "stream",
          "name": "stdout",
          "text": [
            "target variable:\n",
            " -1    242\n",
            " 1      8\n",
            "Name: class_test, dtype: int64\n"
          ]
        }
      ]
    },
    {
      "cell_type": "markdown",
      "metadata": {
        "id": "htbIwQTdfUZQ"
      },
      "source": [
        "8 значений отмечены как положительные, а остальные - отрицательные."
      ]
    },
    {
      "cell_type": "code",
      "metadata": {
        "id": "kT1TqBoxfUZQ"
      },
      "source": [
        "x_data = mod_data.iloc[:,:-2].values # just the X \n",
        "y_labeled = mod_data.class_test.values # new class (just the P & U)\n",
        "y_positive = mod_data.Class.values # original class"
      ],
      "execution_count": 23,
      "outputs": []
    },
    {
      "cell_type": "markdown",
      "metadata": {
        "id": "lxuI8T7gfUZQ"
      },
      "source": [
        "#### Применить random negative sampling для построения классификатора в новых условиях"
      ]
    },
    {
      "cell_type": "code",
      "metadata": {
        "colab": {
          "base_uri": "https://localhost:8080/"
        },
        "id": "SdwmWhQ9fUZR",
        "outputId": "1312c69a-588d-4851-bd75-facce5c53a29"
      },
      "source": [
        "mod_data = mod_data.sample(frac=1)\n",
        "\n",
        "neg_sample = mod_data[mod_data['class_test']==-1][:len(mod_data[mod_data['class_test']==1])]\n",
        "sample_test = mod_data[mod_data['class_test']==-1][len(mod_data[mod_data['class_test']==1]):]\n",
        "pos_sample = mod_data[mod_data['class_test']==1]\n",
        "print(neg_sample.shape, pos_sample.shape)\n",
        "sample_train = pd.concat([neg_sample, pos_sample]).sample(frac=1)"
      ],
      "execution_count": 24,
      "outputs": [
        {
          "output_type": "stream",
          "name": "stdout",
          "text": [
            "(8, 10) (8, 10)\n"
          ]
        }
      ]
    },
    {
      "cell_type": "code",
      "metadata": {
        "colab": {
          "base_uri": "https://localhost:8080/"
        },
        "id": "8yQ3QcutfUZR",
        "outputId": "b03cdf30-5f9d-44a7-b830-ada55221a584"
      },
      "source": [
        "model = KNeighborsClassifier(n_neighbors=2)\n",
        "\n",
        "model.fit(sample_train.iloc[:,:-2].values, \n",
        "          sample_train.iloc[:,-2].values)\n",
        "y_predict = model.predict(sample_test.iloc[:,:-2].values)\n",
        "\n",
        "result= evaluate_results(sample_test.iloc[:,-2].values, y_predict)\n",
        "result.append('last step')\n",
        "B = pd.DataFrame([result],columns=['f1', 'roc', 'recall', 'precision','Model'])"
      ],
      "execution_count": 25,
      "outputs": [
        {
          "output_type": "stream",
          "name": "stdout",
          "text": [
            "Classification results:\n",
            "f1: 97.01%\n",
            "roc: 96.15%\n",
            "recall: 100.00%\n",
            "precision: 94.20%\n"
          ]
        }
      ]
    },
    {
      "cell_type": "markdown",
      "metadata": {
        "id": "cCCTfLVIfUZR"
      },
      "source": [
        "#### Сравнить качество с решением из пункта 4 (построить отчет - таблицу метрик)"
      ]
    },
    {
      "cell_type": "code",
      "metadata": {
        "colab": {
          "base_uri": "https://localhost:8080/",
          "height": 111
        },
        "id": "JOHWP6ZefUZR",
        "outputId": "10c5c6c2-e312-4702-971c-10df7408df91"
      },
      "source": [
        "AB = A.append(B)\n",
        "AB = AB[['Model','f1', 'roc', 'recall', 'precision']]\n",
        "AB"
      ],
      "execution_count": 26,
      "outputs": [
        {
          "output_type": "execute_result",
          "data": {
            "text/html": [
              "<div>\n",
              "<style scoped>\n",
              "    .dataframe tbody tr th:only-of-type {\n",
              "        vertical-align: middle;\n",
              "    }\n",
              "\n",
              "    .dataframe tbody tr th {\n",
              "        vertical-align: top;\n",
              "    }\n",
              "\n",
              "    .dataframe thead th {\n",
              "        text-align: right;\n",
              "    }\n",
              "</style>\n",
              "<table border=\"1\" class=\"dataframe\">\n",
              "  <thead>\n",
              "    <tr style=\"text-align: right;\">\n",
              "      <th></th>\n",
              "      <th>Model</th>\n",
              "      <th>f1</th>\n",
              "      <th>roc</th>\n",
              "      <th>recall</th>\n",
              "      <th>precision</th>\n",
              "    </tr>\n",
              "  </thead>\n",
              "  <tbody>\n",
              "    <tr>\n",
              "      <th>0</th>\n",
              "      <td>step4</td>\n",
              "      <td>1.000000</td>\n",
              "      <td>1.000000</td>\n",
              "      <td>1.0</td>\n",
              "      <td>1.000000</td>\n",
              "    </tr>\n",
              "    <tr>\n",
              "      <th>0</th>\n",
              "      <td>last step</td>\n",
              "      <td>0.970149</td>\n",
              "      <td>0.961538</td>\n",
              "      <td>1.0</td>\n",
              "      <td>0.942029</td>\n",
              "    </tr>\n",
              "  </tbody>\n",
              "</table>\n",
              "</div>"
            ],
            "text/plain": [
              "       Model        f1       roc  recall  precision\n",
              "0      step4  1.000000  1.000000     1.0   1.000000\n",
              "0  last step  0.970149  0.961538     1.0   0.942029"
            ]
          },
          "metadata": {},
          "execution_count": 26
        }
      ]
    },
    {
      "cell_type": "markdown",
      "metadata": {
        "id": "pTDLE88LfUZS"
      },
      "source": [
        "Качество решения из пункта 4 выше из-за наибольшей выборки."
      ]
    },
    {
      "cell_type": "markdown",
      "metadata": {
        "id": "0OZ9shJhfUZS"
      },
      "source": [
        "#### Поэкспериментировать с долей P на шаге 5 (как будет меняться качество модели при уменьшении/увеличении размера P)"
      ]
    },
    {
      "cell_type": "markdown",
      "metadata": {
        "id": "dB-5CH8YfUZS"
      },
      "source": [
        "Разница становится заметной при низких значениях выборки (от 5%) и скорее всего обусловлено сильной связью между факторами и предсказанием."
      ]
    }
  ]
}